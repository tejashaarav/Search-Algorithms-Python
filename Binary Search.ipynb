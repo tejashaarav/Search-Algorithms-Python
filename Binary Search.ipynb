{
 "cells": [
  {
   "cell_type": "code",
   "execution_count": 1,
   "id": "3ca0234a",
   "metadata": {},
   "outputs": [],
   "source": [
    "# to implement this algorithm the array shoyuld be sorted"
   ]
  },
  {
   "cell_type": "code",
   "execution_count": 49,
   "id": "8b7dc906",
   "metadata": {},
   "outputs": [],
   "source": [
    "def binarysearch(arr,val):\n",
    "    arr.sort()\n",
    "    left = 0\n",
    "    right = len(arr) - 1\n",
    "    while(left <= right):\n",
    "        \n",
    "        middle = (left + right)//2\n",
    "        if arr[middle] == val:\n",
    "            return (middle, arr)\n",
    "        elif arr[middle] > val:\n",
    "            right = middle - 1\n",
    "            \n",
    "        else:\n",
    "            left = middle + 1\n",
    "    \n",
    "    \n",
    "    return -1\n",
    "        \n",
    "    \n",
    "    \n",
    "    \n",
    "    "
   ]
  },
  {
   "cell_type": "code",
   "execution_count": 50,
   "id": "067d5e3e",
   "metadata": {},
   "outputs": [],
   "source": [
    "arr = [1,2,4,5,3,2,11,65]"
   ]
  },
  {
   "cell_type": "code",
   "execution_count": 51,
   "id": "9d2d7238",
   "metadata": {},
   "outputs": [],
   "source": [
    "val = 11\n"
   ]
  },
  {
   "cell_type": "code",
   "execution_count": 52,
   "id": "22bbdc87",
   "metadata": {},
   "outputs": [
    {
     "data": {
      "text/plain": [
       "(6, [1, 2, 2, 3, 4, 5, 11, 65])"
      ]
     },
     "execution_count": 52,
     "metadata": {},
     "output_type": "execute_result"
    }
   ],
   "source": [
    "binarysearch(arr,val)"
   ]
  },
  {
   "cell_type": "code",
   "execution_count": 53,
   "id": "c2bacd05",
   "metadata": {},
   "outputs": [],
   "source": [
    "!tar chvfz notebook.tar.gz *"
   ]
  },
  {
   "cell_type": "code",
   "execution_count": 54,
   "id": "315232a0",
   "metadata": {},
   "outputs": [
    {
     "name": "stdout",
     "output_type": "stream",
     "text": [
      "Collecting nbzip\n",
      "  Downloading nbzip-0.1.0-py3-none-any.whl (4.5 kB)\n",
      "Requirement already satisfied: pytest in c:\\users\\tejashaarav s\\anaconda3\\lib\\site-packages (from nbzip) (6.2.3)\n",
      "Requirement already satisfied: notebook in c:\\users\\tejashaarav s\\anaconda3\\lib\\site-packages (from nbzip) (6.3.0)\n",
      "Requirement already satisfied: pyzmq>=17 in c:\\users\\tejashaarav s\\anaconda3\\lib\\site-packages (from notebook->nbzip) (20.0.0)\n",
      "Requirement already satisfied: terminado>=0.8.3 in c:\\users\\tejashaarav s\\anaconda3\\lib\\site-packages (from notebook->nbzip) (0.9.4)\n",
      "Requirement already satisfied: ipykernel in c:\\users\\tejashaarav s\\anaconda3\\lib\\site-packages (from notebook->nbzip) (5.3.4)\n",
      "Requirement already satisfied: jupyter-core>=4.6.1 in c:\\users\\tejashaarav s\\anaconda3\\lib\\site-packages (from notebook->nbzip) (4.7.1)\n",
      "Requirement already satisfied: ipython-genutils in c:\\users\\tejashaarav s\\anaconda3\\lib\\site-packages (from notebook->nbzip) (0.2.0)\n",
      "Requirement already satisfied: argon2-cffi in c:\\users\\tejashaarav s\\anaconda3\\lib\\site-packages (from notebook->nbzip) (20.1.0)\n",
      "Requirement already satisfied: nbformat in c:\\users\\tejashaarav s\\anaconda3\\lib\\site-packages (from notebook->nbzip) (5.1.3)\n",
      "Requirement already satisfied: traitlets>=4.2.1 in c:\\users\\tejashaarav s\\anaconda3\\lib\\site-packages (from notebook->nbzip) (5.0.5)\n",
      "Requirement already satisfied: jinja2 in c:\\users\\tejashaarav s\\anaconda3\\lib\\site-packages (from notebook->nbzip) (2.11.3)\n",
      "Requirement already satisfied: prometheus-client in c:\\users\\tejashaarav s\\anaconda3\\lib\\site-packages (from notebook->nbzip) (0.10.1)\n",
      "Requirement already satisfied: tornado>=6.1 in c:\\users\\tejashaarav s\\anaconda3\\lib\\site-packages (from notebook->nbzip) (6.1)\n",
      "Requirement already satisfied: Send2Trash>=1.5.0 in c:\\users\\tejashaarav s\\anaconda3\\lib\\site-packages (from notebook->nbzip) (1.5.0)\n",
      "Requirement already satisfied: jupyter-client>=5.3.4 in c:\\users\\tejashaarav s\\anaconda3\\lib\\site-packages (from notebook->nbzip) (6.1.12)\n",
      "Requirement already satisfied: nbconvert in c:\\users\\tejashaarav s\\anaconda3\\lib\\site-packages (from notebook->nbzip) (6.0.7)\n",
      "Requirement already satisfied: python-dateutil>=2.1 in c:\\users\\tejashaarav s\\anaconda3\\lib\\site-packages (from jupyter-client>=5.3.4->notebook->nbzip) (2.7.5)\n",
      "Requirement already satisfied: pywin32>=1.0 in c:\\users\\tejashaarav s\\anaconda3\\lib\\site-packages (from jupyter-core>=4.6.1->notebook->nbzip) (227)\n",
      "Requirement already satisfied: six>=1.5 in c:\\users\\tejashaarav s\\anaconda3\\lib\\site-packages (from python-dateutil>=2.1->jupyter-client>=5.3.4->notebook->nbzip) (1.15.0)\n",
      "Requirement already satisfied: pywinpty>=0.5 in c:\\users\\tejashaarav s\\anaconda3\\lib\\site-packages (from terminado>=0.8.3->notebook->nbzip) (0.5.7)\n",
      "Requirement already satisfied: cffi>=1.0.0 in c:\\users\\tejashaarav s\\anaconda3\\lib\\site-packages (from argon2-cffi->notebook->nbzip) (1.14.5)\n",
      "Requirement already satisfied: pycparser in c:\\users\\tejashaarav s\\anaconda3\\lib\\site-packages (from cffi>=1.0.0->argon2-cffi->notebook->nbzip) (2.20)\n",
      "Requirement already satisfied: ipython>=5.0.0 in c:\\users\\tejashaarav s\\anaconda3\\lib\\site-packages (from ipykernel->notebook->nbzip) (7.22.0)\n",
      "Requirement already satisfied: decorator in c:\\users\\tejashaarav s\\anaconda3\\lib\\site-packages (from ipython>=5.0.0->ipykernel->notebook->nbzip) (5.0.6)\n",
      "Requirement already satisfied: prompt-toolkit!=3.0.0,!=3.0.1,<3.1.0,>=2.0.0 in c:\\users\\tejashaarav s\\anaconda3\\lib\\site-packages (from ipython>=5.0.0->ipykernel->notebook->nbzip) (3.0.17)\n",
      "Requirement already satisfied: backcall in c:\\users\\tejashaarav s\\anaconda3\\lib\\site-packages (from ipython>=5.0.0->ipykernel->notebook->nbzip) (0.2.0)\n",
      "Requirement already satisfied: setuptools>=18.5 in c:\\users\\tejashaarav s\\anaconda3\\lib\\site-packages (from ipython>=5.0.0->ipykernel->notebook->nbzip) (52.0.0.post20210125)\n",
      "Requirement already satisfied: colorama in c:\\users\\tejashaarav s\\anaconda3\\lib\\site-packages (from ipython>=5.0.0->ipykernel->notebook->nbzip) (0.4.4)\n",
      "Requirement already satisfied: jedi>=0.16 in c:\\users\\tejashaarav s\\anaconda3\\lib\\site-packages (from ipython>=5.0.0->ipykernel->notebook->nbzip) (0.17.2)\n",
      "Requirement already satisfied: pygments in c:\\users\\tejashaarav s\\anaconda3\\lib\\site-packages (from ipython>=5.0.0->ipykernel->notebook->nbzip) (2.8.1)\n",
      "Requirement already satisfied: pickleshare in c:\\users\\tejashaarav s\\anaconda3\\lib\\site-packages (from ipython>=5.0.0->ipykernel->notebook->nbzip) (0.7.5)\n",
      "Requirement already satisfied: parso<0.8.0,>=0.7.0 in c:\\users\\tejashaarav s\\anaconda3\\lib\\site-packages (from jedi>=0.16->ipython>=5.0.0->ipykernel->notebook->nbzip) (0.7.0)\n",
      "Requirement already satisfied: wcwidth in c:\\users\\tejashaarav s\\anaconda3\\lib\\site-packages (from prompt-toolkit!=3.0.0,!=3.0.1,<3.1.0,>=2.0.0->ipython>=5.0.0->ipykernel->notebook->nbzip) (0.2.5)\n",
      "Requirement already satisfied: MarkupSafe>=0.23 in c:\\users\\tejashaarav s\\anaconda3\\lib\\site-packages (from jinja2->notebook->nbzip) (1.1.1)\n",
      "Requirement already satisfied: defusedxml in c:\\users\\tejashaarav s\\anaconda3\\lib\\site-packages (from nbconvert->notebook->nbzip) (0.7.1)\n",
      "Requirement already satisfied: nbclient<0.6.0,>=0.5.0 in c:\\users\\tejashaarav s\\anaconda3\\lib\\site-packages (from nbconvert->notebook->nbzip) (0.5.3)\n",
      "Requirement already satisfied: bleach in c:\\users\\tejashaarav s\\anaconda3\\lib\\site-packages (from nbconvert->notebook->nbzip) (3.3.0)\n",
      "Requirement already satisfied: mistune<2,>=0.8.1 in c:\\users\\tejashaarav s\\anaconda3\\lib\\site-packages (from nbconvert->notebook->nbzip) (0.8.4)\n",
      "Requirement already satisfied: entrypoints>=0.2.2 in c:\\users\\tejashaarav s\\anaconda3\\lib\\site-packages (from nbconvert->notebook->nbzip) (0.3)\n",
      "Requirement already satisfied: pandocfilters>=1.4.1 in c:\\users\\tejashaarav s\\anaconda3\\lib\\site-packages (from nbconvert->notebook->nbzip) (1.4.3)\n",
      "Requirement already satisfied: jupyterlab-pygments in c:\\users\\tejashaarav s\\anaconda3\\lib\\site-packages (from nbconvert->notebook->nbzip) (0.1.2)\n",
      "Requirement already satisfied: testpath in c:\\users\\tejashaarav s\\anaconda3\\lib\\site-packages (from nbconvert->notebook->nbzip) (0.4.4)\n",
      "Requirement already satisfied: async-generator in c:\\users\\tejashaarav s\\anaconda3\\lib\\site-packages (from nbclient<0.6.0,>=0.5.0->nbconvert->notebook->nbzip) (1.10)\n",
      "Requirement already satisfied: nest-asyncio in c:\\users\\tejashaarav s\\anaconda3\\lib\\site-packages (from nbclient<0.6.0,>=0.5.0->nbconvert->notebook->nbzip) (1.5.1)\n",
      "Requirement already satisfied: jsonschema!=2.5.0,>=2.4 in c:\\users\\tejashaarav s\\anaconda3\\lib\\site-packages (from nbformat->notebook->nbzip) (3.2.0)\n",
      "Requirement already satisfied: pyrsistent>=0.14.0 in c:\\users\\tejashaarav s\\anaconda3\\lib\\site-packages (from jsonschema!=2.5.0,>=2.4->nbformat->notebook->nbzip) (0.17.3)\n",
      "Requirement already satisfied: attrs>=17.4.0 in c:\\users\\tejashaarav s\\anaconda3\\lib\\site-packages (from jsonschema!=2.5.0,>=2.4->nbformat->notebook->nbzip) (20.3.0)\n",
      "Requirement already satisfied: webencodings in c:\\users\\tejashaarav s\\anaconda3\\lib\\site-packages (from bleach->nbconvert->notebook->nbzip) (0.5.1)\n",
      "Requirement already satisfied: packaging in c:\\users\\tejashaarav s\\anaconda3\\lib\\site-packages (from bleach->nbconvert->notebook->nbzip) (20.9)\n",
      "Requirement already satisfied: pyparsing>=2.0.2 in c:\\users\\tejashaarav s\\anaconda3\\lib\\site-packages (from packaging->bleach->nbconvert->notebook->nbzip) (2.4.7)\n",
      "Requirement already satisfied: iniconfig in c:\\users\\tejashaarav s\\anaconda3\\lib\\site-packages (from pytest->nbzip) (1.1.1)\n",
      "Requirement already satisfied: pluggy<1.0.0a1,>=0.12 in c:\\users\\tejashaarav s\\anaconda3\\lib\\site-packages (from pytest->nbzip) (0.13.1)\n",
      "Requirement already satisfied: py>=1.8.2 in c:\\users\\tejashaarav s\\anaconda3\\lib\\site-packages (from pytest->nbzip) (1.10.0)\n",
      "Requirement already satisfied: toml in c:\\users\\tejashaarav s\\anaconda3\\lib\\site-packages (from pytest->nbzip) (0.10.2)\n",
      "Requirement already satisfied: atomicwrites>=1.0 in c:\\users\\tejashaarav s\\anaconda3\\lib\\site-packages (from pytest->nbzip) (1.4.0)\n",
      "Installing collected packages: nbzip\n",
      "Successfully installed nbzip-0.1.0\n"
     ]
    }
   ],
   "source": [
    "!pip install nbzip"
   ]
  },
  {
   "cell_type": "code",
   "execution_count": 56,
   "id": "04333b0c",
   "metadata": {},
   "outputs": [
    {
     "ename": "SyntaxError",
     "evalue": "invalid syntax (<ipython-input-56-74c96198cc91>, line 1)",
     "output_type": "error",
     "traceback": [
      "\u001b[1;36m  File \u001b[1;32m\"<ipython-input-56-74c96198cc91>\"\u001b[1;36m, line \u001b[1;32m1\u001b[0m\n\u001b[1;33m    jupyter serverextension enable --py nbzip --sys-prefix\u001b[0m\n\u001b[1;37m            ^\u001b[0m\n\u001b[1;31mSyntaxError\u001b[0m\u001b[1;31m:\u001b[0m invalid syntax\n"
     ]
    }
   ],
   "source": [
    "jupyter serverextension enable --py nbzip --sys-prefix"
   ]
  },
  {
   "cell_type": "code",
   "execution_count": 57,
   "id": "78dd8bfd",
   "metadata": {},
   "outputs": [
    {
     "ename": "SyntaxError",
     "evalue": "invalid syntax (<ipython-input-57-3ad536ecdaf4>, line 1)",
     "output_type": "error",
     "traceback": [
      "\u001b[1;36m  File \u001b[1;32m\"<ipython-input-57-3ad536ecdaf4>\"\u001b[1;36m, line \u001b[1;32m1\u001b[0m\n\u001b[1;33m    serverextension enable --py nbzip --sys-prefix\u001b[0m\n\u001b[1;37m                    ^\u001b[0m\n\u001b[1;31mSyntaxError\u001b[0m\u001b[1;31m:\u001b[0m invalid syntax\n"
     ]
    }
   ],
   "source": [
    "serverextension enable --py nbzip --sys-prefix"
   ]
  },
  {
   "cell_type": "code",
   "execution_count": 58,
   "id": "42ce6b0b",
   "metadata": {},
   "outputs": [
    {
     "ename": "SyntaxError",
     "evalue": "invalid syntax (<ipython-input-58-81938c52c3e0>, line 1)",
     "output_type": "error",
     "traceback": [
      "\u001b[1;36m  File \u001b[1;32m\"<ipython-input-58-81938c52c3e0>\"\u001b[1;36m, line \u001b[1;32m1\u001b[0m\n\u001b[1;33m    enable --py nbzip --sys-prefix\u001b[0m\n\u001b[1;37m                ^\u001b[0m\n\u001b[1;31mSyntaxError\u001b[0m\u001b[1;31m:\u001b[0m invalid syntax\n"
     ]
    }
   ],
   "source": [
    "enable --py nbzip --sys-prefix"
   ]
  },
  {
   "cell_type": "code",
   "execution_count": 59,
   "id": "f0c7a0ac",
   "metadata": {},
   "outputs": [
    {
     "name": "stderr",
     "output_type": "stream",
     "text": [
      "Enabling: nbzip\n",
      "- Writing config: C:\\Users\\Tejashaarav S\\anaconda3\\etc\\jupyter\n",
      "    - Validating...\n",
      "      nbzip  ok\n"
     ]
    }
   ],
   "source": [
    "!jupyter serverextension enable --py nbzip --sys-prefix"
   ]
  },
  {
   "cell_type": "code",
   "execution_count": 60,
   "id": "4e8ed36d",
   "metadata": {},
   "outputs": [
    {
     "name": "stderr",
     "output_type": "stream",
     "text": [
      "Installing C:\\Users\\Tejashaarav S\\anaconda3\\lib\\site-packages\\nbzip\\static -> nbzip\n",
      "Making directory: C:\\ProgramData\\jupyter\\nbextensions\\nbzip\\\n",
      "Copying: C:\\Users\\Tejashaarav S\\anaconda3\\lib\\site-packages\\nbzip\\static\\tree.js -> C:\\ProgramData\\jupyter\\nbextensions\\nbzip\\tree.js\n",
      "- Validating: ok\n",
      "\n",
      "    To initialize this nbextension in the browser every time the notebook (or other app) loads:\n",
      "    \n",
      "          jupyter nbextension enable nbzip --py\n",
      "    \n"
     ]
    }
   ],
   "source": [
    "!jupyter nbextension install --py nbzip"
   ]
  },
  {
   "cell_type": "code",
   "execution_count": 61,
   "id": "8a86dbf7",
   "metadata": {},
   "outputs": [
    {
     "name": "stderr",
     "output_type": "stream",
     "text": [
      "Enabling tree extension nbzip/tree...\n",
      "      - Validating: ok\n"
     ]
    }
   ],
   "source": [
    "!jupyter nbextension enable --py nbzip"
   ]
  },
  {
   "cell_type": "code",
   "execution_count": null,
   "id": "a5c12bbb",
   "metadata": {},
   "outputs": [],
   "source": []
  }
 ],
 "metadata": {
  "kernelspec": {
   "display_name": "Python 3",
   "language": "python",
   "name": "python3"
  },
  "language_info": {
   "codemirror_mode": {
    "name": "ipython",
    "version": 3
   },
   "file_extension": ".py",
   "mimetype": "text/x-python",
   "name": "python",
   "nbconvert_exporter": "python",
   "pygments_lexer": "ipython3",
   "version": "3.8.8"
  }
 },
 "nbformat": 4,
 "nbformat_minor": 5
}
