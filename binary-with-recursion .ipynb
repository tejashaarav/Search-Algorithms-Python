{
 "cells": [
  {
   "cell_type": "code",
   "execution_count": 13,
   "id": "bb7b0b3a",
   "metadata": {},
   "outputs": [],
   "source": [
    "def binarysearch(arr,val):\n",
    "    arr.sort()\n",
    "    left = 0\n",
    "    right = len(arr) - 1\n",
    "    result = helper(arr,val,left,right)\n",
    "    return result\n",
    "def helper(arr,val,left,right):\n",
    "    while(left<right):\n",
    "        middle = int((left+right)//2)\n",
    "        \n",
    "        if arr[middle] == val:\n",
    "            \n",
    "            return (middle, arr)\n",
    "        elif arr[middle] > val:\n",
    "            right = middle - 1\n",
    "            result =  helper(arr,val,left,right)\n",
    "            return result\n",
    "        else:\n",
    "            left = middle + 1\n",
    "            result =  helper(arr,val,left,right)\n",
    "            return result\n",
    "        \n",
    "    return -1\n",
    "            \n",
    "                "
   ]
  },
  {
   "cell_type": "code",
   "execution_count": 14,
   "id": "a4850665",
   "metadata": {},
   "outputs": [],
   "source": [
    "arr = [1,2,4,5,3,2,11,65]"
   ]
  },
  {
   "cell_type": "code",
   "execution_count": 21,
   "id": "fd5ce6d2",
   "metadata": {},
   "outputs": [],
   "source": [
    "val = 65\n"
   ]
  },
  {
   "cell_type": "code",
   "execution_count": 22,
   "id": "11a88212",
   "metadata": {},
   "outputs": [
    {
     "data": {
      "text/plain": [
       "-1"
      ]
     },
     "execution_count": 22,
     "metadata": {},
     "output_type": "execute_result"
    }
   ],
   "source": [
    "binarysearch(arr,val)"
   ]
  },
  {
   "cell_type": "code",
   "execution_count": null,
   "id": "539f48ea",
   "metadata": {},
   "outputs": [],
   "source": []
  },
  {
   "cell_type": "code",
   "execution_count": null,
   "id": "a5712989",
   "metadata": {},
   "outputs": [],
   "source": []
  }
 ],
 "metadata": {
  "kernelspec": {
   "display_name": "Python 3",
   "language": "python",
   "name": "python3"
  },
  "language_info": {
   "codemirror_mode": {
    "name": "ipython",
    "version": 3
   },
   "file_extension": ".py",
   "mimetype": "text/x-python",
   "name": "python",
   "nbconvert_exporter": "python",
   "pygments_lexer": "ipython3",
   "version": "3.8.8"
  }
 },
 "nbformat": 4,
 "nbformat_minor": 5
}
